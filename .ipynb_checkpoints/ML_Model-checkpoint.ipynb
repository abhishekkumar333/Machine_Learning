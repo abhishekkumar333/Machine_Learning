{
 "cells": [
  {
   "cell_type": "code",
   "execution_count": 12,
   "metadata": {
    "collapsed": true
   },
   "outputs": [],
   "source": [
    "import pandas as pd\n",
    "import glob\n",
    "import numpy as np\n",
    "from sklearn.neighbors import KNeighborsClassifier\n",
    "from sklearn.linear_model import LogisticRegression\n",
    "from sklearn.ensemble import RandomForestClassifier,GradientBoostingClassifier\n",
    "from sklearn import metrics\n",
    "from sklearn.cross_validation import train_test_split,cross_val_score\n",
    "from sklearn import preprocessing\n",
    "import operator"
   ]
  },
  {
   "cell_type": "code",
   "execution_count": 4,
   "metadata": {
    "collapsed": false
   },
   "outputs": [],
   "source": [
    "names=glob.glob(\"*.csv\")\n",
    "data=pd.read_csv(names[0])"
   ]
  },
  {
   "cell_type": "code",
   "execution_count": 11,
   "metadata": {
    "collapsed": false,
    "scrolled": true
   },
   "outputs": [
    {
     "data": {
      "text/html": [
       "<div>\n",
       "<table border=\"1\" class=\"dataframe\">\n",
       "  <thead>\n",
       "    <tr style=\"text-align: right;\">\n",
       "      <th></th>\n",
       "      <th>Unnamed: 0</th>\n",
       "      <th>score_phrase</th>\n",
       "      <th>title</th>\n",
       "      <th>url</th>\n",
       "      <th>platform</th>\n",
       "      <th>score</th>\n",
       "      <th>genre</th>\n",
       "      <th>editors_choice</th>\n",
       "      <th>release_year</th>\n",
       "      <th>release_month</th>\n",
       "      <th>release_day</th>\n",
       "    </tr>\n",
       "  </thead>\n",
       "  <tbody>\n",
       "    <tr>\n",
       "      <th>0</th>\n",
       "      <td>0</td>\n",
       "      <td>Amazing</td>\n",
       "      <td>LittleBigPlanet PS Vita</td>\n",
       "      <td>/games/littlebigplanet-vita/vita-98907</td>\n",
       "      <td>PlayStation Vita</td>\n",
       "      <td>9.0</td>\n",
       "      <td>Platformer</td>\n",
       "      <td>Y</td>\n",
       "      <td>2012</td>\n",
       "      <td>9</td>\n",
       "      <td>12</td>\n",
       "    </tr>\n",
       "    <tr>\n",
       "      <th>1</th>\n",
       "      <td>1</td>\n",
       "      <td>Amazing</td>\n",
       "      <td>LittleBigPlanet PS Vita -- Marvel Super Hero E...</td>\n",
       "      <td>/games/littlebigplanet-ps-vita-marvel-super-he...</td>\n",
       "      <td>PlayStation Vita</td>\n",
       "      <td>9.0</td>\n",
       "      <td>Platformer</td>\n",
       "      <td>Y</td>\n",
       "      <td>2012</td>\n",
       "      <td>9</td>\n",
       "      <td>12</td>\n",
       "    </tr>\n",
       "    <tr>\n",
       "      <th>2</th>\n",
       "      <td>2</td>\n",
       "      <td>Great</td>\n",
       "      <td>Splice: Tree of Life</td>\n",
       "      <td>/games/splice/ipad-141070</td>\n",
       "      <td>iPad</td>\n",
       "      <td>8.5</td>\n",
       "      <td>Puzzle</td>\n",
       "      <td>N</td>\n",
       "      <td>2012</td>\n",
       "      <td>9</td>\n",
       "      <td>12</td>\n",
       "    </tr>\n",
       "    <tr>\n",
       "      <th>3</th>\n",
       "      <td>3</td>\n",
       "      <td>Great</td>\n",
       "      <td>NHL 13</td>\n",
       "      <td>/games/nhl-13/xbox-360-128182</td>\n",
       "      <td>Xbox 360</td>\n",
       "      <td>8.5</td>\n",
       "      <td>Sports</td>\n",
       "      <td>N</td>\n",
       "      <td>2012</td>\n",
       "      <td>9</td>\n",
       "      <td>11</td>\n",
       "    </tr>\n",
       "    <tr>\n",
       "      <th>4</th>\n",
       "      <td>4</td>\n",
       "      <td>Great</td>\n",
       "      <td>NHL 13</td>\n",
       "      <td>/games/nhl-13/ps3-128181</td>\n",
       "      <td>PlayStation 3</td>\n",
       "      <td>8.5</td>\n",
       "      <td>Sports</td>\n",
       "      <td>N</td>\n",
       "      <td>2012</td>\n",
       "      <td>9</td>\n",
       "      <td>11</td>\n",
       "    </tr>\n",
       "  </tbody>\n",
       "</table>\n",
       "</div>"
      ],
      "text/plain": [
       "   Unnamed: 0 score_phrase                                              title  \\\n",
       "0           0      Amazing                            LittleBigPlanet PS Vita   \n",
       "1           1      Amazing  LittleBigPlanet PS Vita -- Marvel Super Hero E...   \n",
       "2           2        Great                               Splice: Tree of Life   \n",
       "3           3        Great                                             NHL 13   \n",
       "4           4        Great                                             NHL 13   \n",
       "\n",
       "                                                 url          platform  score  \\\n",
       "0             /games/littlebigplanet-vita/vita-98907  PlayStation Vita    9.0   \n",
       "1  /games/littlebigplanet-ps-vita-marvel-super-he...  PlayStation Vita    9.0   \n",
       "2                          /games/splice/ipad-141070              iPad    8.5   \n",
       "3                      /games/nhl-13/xbox-360-128182          Xbox 360    8.5   \n",
       "4                           /games/nhl-13/ps3-128181     PlayStation 3    8.5   \n",
       "\n",
       "        genre editors_choice  release_year  release_month  release_day  \n",
       "0  Platformer              Y          2012              9           12  \n",
       "1  Platformer              Y          2012              9           12  \n",
       "2      Puzzle              N          2012              9           12  \n",
       "3      Sports              N          2012              9           11  \n",
       "4      Sports              N          2012              9           11  "
      ]
     },
     "execution_count": 11,
     "metadata": {},
     "output_type": "execute_result"
    }
   ],
   "source": [
    "data.head()"
   ]
  },
  {
   "cell_type": "code",
   "execution_count": 10,
   "metadata": {
    "collapsed": false
   },
   "outputs": [],
   "source": [
    "Selected_columns=['score_phrase','platform','score','genre','release_year','release_month','release_day']\n",
    "X=data[Selected_columns]\n",
    "Y=data['editors_choice']"
   ]
  },
  {
   "cell_type": "code",
   "execution_count": 15,
   "metadata": {
    "collapsed": false
   },
   "outputs": [
    {
     "name": "stderr",
     "output_type": "stream",
     "text": [
      "/usr/local/lib/python2.7/dist-packages/ipykernel/__main__.py:6: SettingWithCopyWarning: \n",
      "A value is trying to be set on a copy of a slice from a DataFrame.\n",
      "Try using .loc[row_indexer,col_indexer] = value instead\n",
      "\n",
      "See the caveats in the documentation: http://pandas.pydata.org/pandas-docs/stable/indexing.html#indexing-view-versus-copy\n"
     ]
    }
   ],
   "source": [
    "labelise=['score_phrase','platform','genre']\n",
    "\n",
    "def Label(dta,x):\n",
    "    y=preprocessing.LabelEncoder()\n",
    "    y.fit(dta[x])\n",
    "    dta[x]=y.transform(dta[x])\n",
    "\n",
    "for x in labelise:\n",
    "    Label(X,x)"
   ]
  },
  {
   "cell_type": "code",
   "execution_count": 18,
   "metadata": {
    "collapsed": false
   },
   "outputs": [],
   "source": [
    "op=preprocessing.LabelEncoder()\n",
    "op.fit(Y)\n",
    "Y=op.transform(Y)"
   ]
  },
  {
   "cell_type": "code",
   "execution_count": 20,
   "metadata": {
    "collapsed": false
   },
   "outputs": [],
   "source": [
    "from sklearn.cross_validation import KFold"
   ]
  },
  {
   "cell_type": "markdown",
   "metadata": {},
   "source": [
    "# All the models below are tested under 10-fold cross-validation (cv)"
   ]
  },
  {
   "cell_type": "markdown",
   "metadata": {},
   "source": [
    "# <font color='blue'>Finetuning with K-Nearest Neighbour Classifier (knn)</font>\n"
   ]
  },
  {
   "cell_type": "code",
   "execution_count": 25,
   "metadata": {
    "collapsed": false
   },
   "outputs": [
    {
     "name": "stdout",
     "output_type": "stream",
     "text": [
      "For knn\n",
      "4\n",
      "0.856057024717\n"
     ]
    },
    {
     "data": {
      "image/png": "[encoded data removed]",
      "text/plain": [
       "<matplotlib.figure.Figure at 0x7f32c0eed810>"
      ]
     },
     "metadata": {},
     "output_type": "display_data"
    }
   ],
   "source": [
    "from sklearn.neighbors import KNeighborsClassifier\n",
    "k_range=range(1,100)\n",
    "scores=[]\n",
    "for k in k_range:\n",
    "    knn=KNeighborsClassifier(n_neighbors=k)\n",
    "    sco=cross_val_score(knn,X,Y,cv=10,scoring='accuracy')\n",
    "    sco=sco.mean()\n",
    "    scores.append(sco)\n",
    "\n",
    "#import matplot lib for plotting\n",
    "import matplotlib.pyplot as plt \n",
    "#allow plots to appear within the notebook\n",
    "%matplotlib inline\n",
    "#plot the relationship between k and testing accuracy\n",
    "plt.plot(k_range,scores)\n",
    "plt.xlabel('value of k ')\n",
    "plt.ylabel('Testing accuracy')\t\n",
    "index, value = max(enumerate(scores), key=operator.itemgetter(1))\n",
    "print \"For knn\"\n",
    "print k_range[index]\n",
    "print value"
   ]
  },
  {
   "cell_type": "markdown",
   "metadata": {},
   "source": [
    "# <font color='blue'>Finetuning with RandomForestClassifier (rf)</font>\n",
    "\n",
    "# <font color='blue'>Finetuning with  GradientBoostingClassifier (gb)</font>"
   ]
  },
  {
   "cell_type": "code",
   "execution_count": 35,
   "metadata": {
    "collapsed": false
   },
   "outputs": [
    {
     "name": "stdout",
     "output_type": "stream",
     "text": [
      "For RandomForest\n",
      "16\n",
      "0.950652098594\n",
      "GradientBoosting\n",
      "10\n",
      "0.947322950275\n"
     ]
    },
    {
     "data": {
      "image/png": "[encoded data removed]",
      "text/plain": [
       "<matplotlib.figure.Figure at 0x7f32bf5369d0>"
      ]
     },
     "metadata": {},
     "output_type": "display_data"
    }
   ],
   "source": [
    "k_range=range(1,20)\n",
    "scores=[]\n",
    "for k in k_range:\n",
    "    clf= RandomForestClassifier(n_estimators=10*k)\n",
    "    sco=cross_val_score(clf,X,Y,cv=10,scoring='accuracy')\n",
    "    sco=sco.mean()\n",
    "    scores.append(sco)\n",
    "\n",
    "plt.plot(k_range,scores)\n",
    "plt.xlabel('value of k')\n",
    "plt.ylabel('Testing accuracy')\n",
    "index, value = max(enumerate(scores), key=operator.itemgetter(1))\n",
    "print \"For RandomForest\"\n",
    "print k_range[index]\n",
    "print value\n",
    "\n",
    "\n",
    "k_range=range(1,20)\n",
    "scores=[]\n",
    "for k in k_range:\n",
    "    clf = GradientBoostingClassifier(n_estimators=10*k)\n",
    "    sco=cross_val_score(clf,X,Y,cv=10,scoring='accuracy')\n",
    "    sco=sco.mean()\n",
    "    scores.append(sco)\n",
    "\n",
    "plt.plot(k_range,scores)\n",
    "plt.xlabel('value of k')\n",
    "plt.ylabel('Testing accuracy')\n",
    "index, value = max(enumerate(scores), key=operator.itemgetter(1))\n",
    "print \"GradientBoosting\"\n",
    "print k_range[index]\n",
    "print value"
   ]
  },
  {
   "cell_type": "markdown",
   "metadata": {},
   "source": [
    "# <font color='blue'>Finetuning with Logistic Regression (lr)</font>"
   ]
  },
  {
   "cell_type": "code",
   "execution_count": 28,
   "metadata": {
    "collapsed": false
   },
   "outputs": [
    {
     "name": "stdout",
     "output_type": "stream",
     "text": [
      "0.934221873334\n"
     ]
    }
   ],
   "source": [
    "from sklearn.linear_model import LogisticRegression\n",
    "logreg=LogisticRegression()\n",
    "sco=cross_val_score(logreg,X,Y,cv=10,scoring='accuracy')\n",
    "print sco.mean()"
   ]
  },
  {
   "cell_type": "markdown",
   "metadata": {},
   "source": [
    "# <font color='blue'>Ensembling </font></br>\n",
    "<b>Ensembling Technique Used is Voted Ensemble with finding out the Proper Weights to be Used for each classifier</b>\n",
    "<img src=\"Ensembling.png\">"
   ]
  },
  {
   "cell_type": "code",
   "execution_count": 44,
   "metadata": {
    "collapsed": true
   },
   "outputs": [],
   "source": [
    "# Split the Data into Training and Testing Set\n",
    "x_train,x_test,y_train,y_test=train_test_split(X,Y,test_size=0.30,random_state=3)"
   ]
  },
  {
   "cell_type": "code",
   "execution_count": 45,
   "metadata": {
    "collapsed": false
   },
   "outputs": [
    {
     "data": {
      "text/plain": [
       "GradientBoostingClassifier(init=None, learning_rate=0.1, loss='deviance',\n",
       "              max_depth=3, max_features=None, max_leaf_nodes=None,\n",
       "              min_samples_leaf=1, min_samples_split=2,\n",
       "              min_weight_fraction_leaf=0.0, n_estimators=100,\n",
       "              presort='auto', random_state=None, subsample=1.0, verbose=0,\n",
       "              warm_start=False)"
      ]
     },
     "execution_count": 45,
     "metadata": {},
     "output_type": "execute_result"
    }
   ],
   "source": [
    "# Initialise the Models with Obtained Optimal Parrameters Above\n",
    "knn=KNeighborsClassifier(n_neighbors=4)\n",
    "gb=GradientBoostingClassifier(n_estimators=100)\n",
    "rf=RandomForestClassifier(n_estimators=160)\n",
    "lr=LogisticRegression()\n",
    "\n",
    "# Train the Models on Training Data\n",
    "lr.fit(x_train,y_train)\n",
    "knn.fit(x_train,y_train)\n",
    "rf.fit(x_train,y_train)\n",
    "gb.fit(x_train,y_train)"
   ]
  },
  {
   "cell_type": "code",
   "execution_count": 46,
   "metadata": {
    "collapsed": true
   },
   "outputs": [],
   "source": [
    "# Make Predictions on testing Data\n",
    "y_pred_lr=lr.predict(x_test)\n",
    "y_pred_knn=knn.predict(x_test)\n",
    "y_pred_rf=rf.predict(x_test)\n",
    "y_pred_gb=gb.predict(x_test)"
   ]
  },
  {
   "cell_type": "code",
   "execution_count": 47,
   "metadata": {
    "collapsed": false
   },
   "outputs": [
    {
     "name": "stdout",
     "output_type": "stream",
     "text": [
      "0.971009305655\n",
      "[0, 0, 1, 0]\n"
     ]
    }
   ],
   "source": [
    "ans=[]\n",
    "\n",
    "#Initialised Accuracy to zero\n",
    "accuracy=0\n",
    "\n",
    "#This variable will take into account total number of weight range to be used [0,co) \n",
    "co=7\n",
    "\n",
    "#Adding  Corresponding vote to the Particular predicted value.\n",
    "def fun(a,b,vote):\n",
    "    try:\n",
    "        a[b]=a[b]+vote\n",
    "    except:\n",
    "        a[b]=vote\n",
    "    return a    \n",
    "\n",
    "# Combining the predictions of different Classifiers over the given votes available to different Classifiers\n",
    "\n",
    "# the lra,knna,rfa,gba are the single predictions of different classifiers\n",
    "\n",
    "# the lrv,knnv,rfv,gbv are the votes allotted to them\n",
    "\"\"\"\n",
    "For e.g \n",
    "\n",
    "Classifier                Predicted Value\n",
    "Linear regression predicted 1\n",
    "KNN               predicted 0\n",
    "Random Forrest    predicted 1\n",
    "Gradient Boosting Predicted 0\n",
    "\n",
    "And corresponding votes alloted \n",
    "\n",
    "\n",
    "Classifier         Votes\n",
    "\n",
    "Linear regression  1\n",
    "KNN                1\n",
    "Random Forrest     2\n",
    "\n",
    "Gradient Boosting  3\n",
    "\n",
    "so total count of 1\n",
    "\n",
    "1*1+2*1=3\n",
    "\n",
    "and Total count of 0\n",
    "\n",
    "1+3=4\n",
    "\n",
    "So the Voted Ensembled output will be 0 because it have total 4 votes larger than 3 to that of 1\n",
    "\n",
    "The same Logic for different number of votes alloted to different classifier outputs and then taking the one \n",
    "with Maximum Accuracy is implemented here.\n",
    "\n",
    "\"\"\"\n",
    "\n",
    "def combine_custom(lra,knna,rfa,gba,lrv,knnv,rfv,gbv):\n",
    "    d=dict([])\n",
    "    d[lra]=lrv\n",
    "    d=fun(d,knna,knnv)  \n",
    "    d=fun(d,rfa,rfv)\n",
    "    d=fun(d,gba,gbv)\n",
    "    return max(d.iteritems(), key=operator.itemgetter(1))[0]\n",
    "\n",
    "\n",
    "for a in range(0,co):\n",
    "    for b in range(0,co):\n",
    "        for c in range(0,co):\n",
    "            for d in range(0,co):\n",
    "                y_pred=[]\n",
    "                for a1,b1,c1,d1 in zip(y_pred_lr,y_pred_knn,y_pred_rf,y_pred_gb):\n",
    "                    y_pred.append(combine_custom(a1,b1,c1,d1,a,b,c,d))\n",
    "                taccuracy=metrics.accuracy_score(y_test,y_pred)\n",
    "                if accuracy<taccuracy:\n",
    "                    accuracy=taccuracy\n",
    "                    ans=[a,b,c,d]\n",
    "                        \n",
    "\n",
    "                        \n",
    "print accuracy\n",
    "print ans                         "
   ]
  },
  {
   "cell_type": "code",
   "execution_count": 48,
   "metadata": {
    "collapsed": false
   },
   "outputs": [
    {
     "name": "stdout",
     "output_type": "stream",
     "text": [
      "Accuracy\n",
      "0.971009305655\n",
      "Optimal parrameters\n",
      "[0, 0, 1, 0]\n"
     ]
    }
   ],
   "source": [
    "print \"Accuracy\"\n",
    "print accuracy\n",
    "print \"Optimal parrameters\"\n",
    "print ans"
   ]
  },
  {
   "cell_type": "markdown",
   "metadata": {},
   "source": [
    "<b>Just see how the Accuracy is increased from 95% best RandomForrest to 97% by ensembling. this 1% percent increase in Accuracy is attained by using the voted ensemble technique.</b>"
   ]
  },
  {
   "cell_type": "markdown",
   "metadata": {},
   "source": [
    "# <font color='blue'>Model Stacking </font></br>\n",
    "<b>Stacking is another very powerfull technique for finding out the Meta Model of Higher Accuracy and Very low overfitting. </b>\n",
    "<img src='Stacking.png'>"
   ]
  },
  {
   "cell_type": "code",
   "execution_count": 54,
   "metadata": {
    "collapsed": true
   },
   "outputs": [],
   "source": [
    "\n",
    "y_p_lr=lr.predict(X)\n",
    "y_p_knn=knn.predict(X)\n",
    "y_p_rf=rf.predict(X)\n",
    "y_p_gb=gb.predict(X)\n",
    "\n",
    "X_stem=[y_p_lr,y_p_knn,y_p_rf,y_p_gb]\n",
    "X_stem=np.asarray(X_stem)"
   ]
  },
  {
   "cell_type": "code",
   "execution_count": 55,
   "metadata": {
    "collapsed": false
   },
   "outputs": [
    {
     "name": "stdout",
     "output_type": "stream",
     "text": [
      "(4, 18625)\n",
      "(18625,)\n"
     ]
    }
   ],
   "source": [
    "print X_stem.shape\n",
    "print Y.shape"
   ]
  },
  {
   "cell_type": "code",
   "execution_count": 67,
   "metadata": {
    "collapsed": false
   },
   "outputs": [
    {
     "name": "stdout",
     "output_type": "stream",
     "text": [
      "(18625, 4)\n"
     ]
    }
   ],
   "source": [
    "X_stem=np.transpose(X_stem)\n",
    "print X_stem.shape"
   ]
  },
  {
   "cell_type": "code",
   "execution_count": 68,
   "metadata": {
    "collapsed": false
   },
   "outputs": [
    {
     "name": "stdout",
     "output_type": "stream",
     "text": [
      "For RandomForest\n",
      "1\n",
      "0.991033425593\n"
     ]
    },
    {
     "data": {
      "image/png": "[encoded data removed]",
      "text/plain": [
       "<matplotlib.figure.Figure at 0x7f32ba797150>"
      ]
     },
     "metadata": {},
     "output_type": "display_data"
    }
   ],
   "source": [
    "k_range=range(1,20)\n",
    "scores=[]\n",
    "for k in k_range:\n",
    "    clf= RandomForestClassifier(n_estimators=10*k)\n",
    "    sco=cross_val_score(clf,X_stem,Y,cv=10,scoring='accuracy')\n",
    "    sco=sco.mean()\n",
    "    scores.append(sco)\n",
    "\n",
    "plt.plot(k_range,scores)\n",
    "plt.xlabel('value of k')\n",
    "plt.ylabel('Testing accuracy')\n",
    "index, value = max(enumerate(scores), key=operator.itemgetter(1))\n",
    "print \"For RandomForest\"\n",
    "print k_range[index]\n",
    "print value"
   ]
  },
  {
   "cell_type": "markdown",
   "metadata": {},
   "source": [
    "<b>So here you can see by Stacking different Models we got An Accuracy of 99 % !!! this rarely happens in a data Science problem in which we can reach such an high Accuracy.</b>"
   ]
  },
  {
   "cell_type": "markdown",
   "metadata": {},
   "source": [
    "<b>We can also follow from here on same above procedure in which we can first go for k-fold cross-validation for choosing the best parrameters of different models and then Making an Ensemble and Stacking Model for further increase in Accuracy. But this 99% is a decent benchmark so we can stop here.</b>"
   ]
  },
  {
   "cell_type": "code",
   "execution_count": null,
   "metadata": {
    "collapsed": true
   },
   "outputs": [],
   "source": []
  }
 ],
 "metadata": {
  "kernelspec": {
   "display_name": "Python 2",
   "language": "python",
   "name": "python2"
  },
  "language_info": {
   "codemirror_mode": {
    "name": "ipython",
    "version": 2
   },
   "file_extension": ".py",
   "mimetype": "text/x-python",
   "name": "python",
   "nbconvert_exporter": "python",
   "pygments_lexer": "ipython2",
   "version": "2.7.6"
  }
 },
 "nbformat": 4,
 "nbformat_minor": 0
}
